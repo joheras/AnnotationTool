{
  "cells": [
    {
      "cell_type": "markdown",
      "metadata": {
        "id": "X9Le0T2l5E4h"
      },
      "source": [
        "# Sesión 6: ficheros y recursividad"
      ]
    },
    {
      "cell_type": "markdown",
      "metadata": {
        "id": "XQmQii-e5E4j"
      },
      "source": [
        "##  Ficheros\n",
        "Aunque se volverá a tratar el tema de ficheros al usar Numpy y Pandas, hablamos brevemente de ficheros en Python. La documentación adecuada es [el tutorial de Python](https://docs.python.org/3/tutorial/inputoutput.html#reading-and-writing-files).\n",
        "\n",
        "Modos de apertura de un fichero:\n",
        "  - 'r': lectura\n",
        "  - 'w': escritura (borra el contenido anterior)\n",
        "  - 'a': añade al final\n",
        "\n"
      ]
    },
    {
      "cell_type": "markdown",
      "metadata": {
        "id": "ioAa9IDb5E4k"
      },
      "source": [
        "Estamos acostumbrados a tratar ficheros de un modo similar.\n",
        "En la Sección 7.2 del tutorial está todo lo que necesitamos por el momento.\n",
        "Usamos: open, close, read, readline, write."
      ]
    },
    {
      "cell_type": "code",
      "execution_count": null,
      "metadata": {
        "scrolled": true,
        "id": "5h8H6vfQ5E4k"
      },
      "outputs": [],
      "source": [
        "f = open('mifich.txt','a')\n",
        "f.write('hola')\n",
        "f.close()\n"
      ]
    },
    {
      "cell_type": "code",
      "execution_count": null,
      "metadata": {
        "scrolled": true,
        "id": "nJ_qzYEC5E4l",
        "outputId": "291ebcf4-a244-4a25-89df-0a6e7cf09ca9"
      },
      "outputs": [
        {
          "data": {
            "text/plain": [
              "'Habia una vez un barquito chiqui\\nque no podia, que no podia\\nnavegar.holahola'"
            ]
          },
          "execution_count": 1,
          "metadata": {},
          "output_type": "execute_result"
        }
      ],
      "source": [
        "#Obtenemos una estructura\n",
        "#modo lectura por defecto, por lo que podemos quitar 'r'\n",
        "#Sin argumento size (opcional) proporciona el contenido completo del fichero\n",
        "f=open('mifich.txt','r')\n",
        "d = f.read()\n",
        "d"
      ]
    },
    {
      "cell_type": "code",
      "execution_count": null,
      "metadata": {
        "scrolled": true,
        "id": "nF1dNk445E4m"
      },
      "outputs": [],
      "source": [
        "f.close()"
      ]
    },
    {
      "cell_type": "code",
      "execution_count": null,
      "metadata": {
        "scrolled": true,
        "id": "oqxhE54D5E4n",
        "outputId": "8f450756-d968-43d7-bf4f-659e0bae78c3"
      },
      "outputs": [
        {
          "name": "stdout",
          "output_type": "stream",
          "text": [
            "Habia una vez un barquito chiqui\n",
            "\n"
          ]
        },
        {
          "data": {
            "text/plain": [
              "'que no podia, que no podia\\n'"
            ]
          },
          "execution_count": 3,
          "metadata": {},
          "output_type": "execute_result"
        }
      ],
      "source": [
        "#Para tratar por líneas un fichero de texto se usa readline\n",
        "f=open('mifich.txt')\n",
        "#La forma más cómoda de tratarlo por líneas\n",
        "print(f.readline())\n",
        "f.readline()\n"
      ]
    },
    {
      "cell_type": "code",
      "execution_count": null,
      "metadata": {
        "scrolled": true,
        "id": "5P2dixAU5E4o",
        "outputId": "9a58f760-751b-4b4d-a2f2-00225378c0db"
      },
      "outputs": [
        {
          "data": {
            "text/plain": [
              "'navegar.holahola'"
            ]
          },
          "execution_count": 7,
          "metadata": {},
          "output_type": "execute_result"
        }
      ],
      "source": [
        "f.readline()"
      ]
    },
    {
      "cell_type": "code",
      "execution_count": null,
      "metadata": {
        "scrolled": true,
        "id": "TFCwlLYN5E4o",
        "outputId": "0cffa444-99c5-4ddd-e6ae-98c00ad665d9"
      },
      "outputs": [
        {
          "data": {
            "text/plain": [
              "''"
            ]
          },
          "execution_count": 8,
          "metadata": {},
          "output_type": "execute_result"
        }
      ],
      "source": [
        "#Una lectura tras el final de fichero resulta la secuencia vacía\n",
        "f.readline()"
      ]
    },
    {
      "cell_type": "code",
      "execution_count": null,
      "metadata": {
        "scrolled": true,
        "id": "kjoidlk_5E4o",
        "outputId": "10e12c36-ceb7-4e9e-b55e-66d988950f57"
      },
      "outputs": [
        {
          "name": "stdout",
          "output_type": "stream",
          "text": [
            "Habia una vez un barquito chiqui\n",
            " que no podia, que no podia\n",
            " navegar.holahola "
          ]
        }
      ],
      "source": [
        "#Aprovechando que open devuelve un objeto file (iterable)\n",
        "f.close()\n",
        "f=open('mifich.txt')\n",
        "for line in f:\n",
        "  print(line,end=' ')"
      ]
    },
    {
      "cell_type": "markdown",
      "metadata": {
        "id": "zoa9CUwa5E4p"
      },
      "source": [
        "Con ``list(f)`` o f``.readlines()`` se obtiene la lista de líneas de ``f``."
      ]
    },
    {
      "cell_type": "markdown",
      "metadata": {
        "id": "kt532V8L5E4p"
      },
      "source": [
        "##### Forma recomendada para el tratamiento en Python"
      ]
    },
    {
      "cell_type": "code",
      "execution_count": null,
      "metadata": {
        "scrolled": true,
        "id": "L7siBFBo5E4p"
      },
      "outputs": [],
      "source": [
        "#Estaba abierto\n",
        "f.close()\n",
        "#La estructura with hace que el fichero se cierre incluso si hay problemas (excepciones)\n",
        "with open('mifich.txt') as f:\n",
        "  d = f.read()\n",
        "  for line in d:\n",
        "      print(line,end=' ')"
      ]
    },
    {
      "cell_type": "code",
      "execution_count": null,
      "metadata": {
        "scrolled": true,
        "id": "TeQzJqNH5E4p"
      },
      "outputs": [],
      "source": [
        "with open('mifich.txt') as f:\n",
        "    d = f.readlines()\n",
        "print(d)"
      ]
    },
    {
      "cell_type": "code",
      "execution_count": null,
      "metadata": {
        "scrolled": true,
        "id": "3MZwGYss5E4q"
      },
      "outputs": [],
      "source": [
        "#Resulta muy útil para el manejo por líneas usar enumerate\n",
        "with open('mifich.txt') as f:\n",
        "    for idx, linea in enumerate(f):\n",
        "        print(f'{idx}: {linea.strip()}')\n"
      ]
    },
    {
      "cell_type": "code",
      "execution_count": null,
      "metadata": {
        "scrolled": true,
        "id": "E71uwGk95E4q"
      },
      "outputs": [],
      "source": [
        "linea.split('v')"
      ]
    },
    {
      "cell_type": "code",
      "execution_count": null,
      "metadata": {
        "scrolled": true,
        "id": "MKdYxDJA5E4q"
      },
      "outputs": [],
      "source": [
        "linea"
      ]
    },
    {
      "cell_type": "code",
      "execution_count": null,
      "metadata": {
        "scrolled": true,
        "id": "iPxpZrdf5E4q"
      },
      "outputs": [],
      "source": [
        "linea.split('o')"
      ]
    },
    {
      "cell_type": "code",
      "execution_count": null,
      "metadata": {
        "scrolled": true,
        "id": "MNd19gBV5E4q"
      },
      "outputs": [],
      "source": [
        "palabras = linea.split()"
      ]
    },
    {
      "cell_type": "code",
      "execution_count": null,
      "metadata": {
        "scrolled": true,
        "id": "pECeDQfE5E4q"
      },
      "outputs": [],
      "source": [
        "palabras"
      ]
    },
    {
      "cell_type": "code",
      "execution_count": null,
      "metadata": {
        "scrolled": true,
        "id": "xIzjSw6M5E4q"
      },
      "outputs": [],
      "source": [
        "s=' '.join(palabras)\n",
        "s"
      ]
    },
    {
      "cell_type": "markdown",
      "source": [
        "## Recursividad\n",
        "\n"
      ],
      "metadata": {
        "id": "MBDXmyZGEuCd"
      }
    },
    {
      "cell_type": "markdown",
      "source": [
        "# Ejercicios"
      ],
      "metadata": {
        "id": "SndRoIHm86KT"
      }
    },
    {
      "cell_type": "markdown",
      "source": [
        "**Ejercicio:**\n",
        "1. Crear un fichero de texto con el contenido que quieras, darle mombre Pru.txt.\n",
        "2. Leer el contenido del fichero y convertir las lineas a notación [CamelCase](https://es.wikipedia.org/wiki/Camel_case).\n",
        "3. Leer el contenido del fichero y convertir las lineas a notación [snake_case](https://es.wikipedia.org/wiki/Snake_case).\n",
        "4. Generar los ficheros PruCamelCase.txt y Pru_snake_case.txt"
      ],
      "metadata": {
        "id": "0jVm_fu688p7"
      }
    },
    {
      "cell_type": "code",
      "source": [],
      "metadata": {
        "id": "K6hiA8nQ85VE"
      },
      "execution_count": null,
      "outputs": []
    },
    {
      "cell_type": "markdown",
      "source": [
        "**Ejercicio:**\n",
        "Crea un fichero “produccion.txt” que se supone contiene datos de las producciones diarias de una fábrica de zapatillas (en un periodo de tiempo que no viene al caso). Elige el formato que consideres más adecuado. A partir de dicho fichero:\n",
        "- Define una función que, desde el nombre de un fichero con ese formato, calcule una lista con las 10 mejores producciones diarias. Puedes hacerlo a pelo o, para que sea más eficiente desde el punto de vista de la memoria, usando solo una lista de tamaño 10, que se vaya actualizando conforme se van tratando los datos del fichero.\n",
        "- Define una función que, desde el nombre de un fichero con ese formato, decida si existe algún día en el que la producción superó el doble de la media.\n",
        "\n"
      ],
      "metadata": {
        "id": "7Fjp5A4n9ju5"
      }
    },
    {
      "cell_type": "code",
      "source": [],
      "metadata": {
        "id": "sjuMWGeI90_U"
      },
      "execution_count": null,
      "outputs": []
    },
    {
      "cell_type": "code",
      "source": [],
      "metadata": {
        "id": "SzpA1YZF-Iku"
      },
      "execution_count": null,
      "outputs": []
    },
    {
      "cell_type": "markdown",
      "source": [
        "**Ejercicio**: Usamos la representación habitual de un grafo mediante un diccionario (vértice, lista de vértices adyacentes).\n",
        "- Define una función que, dado un grafo G y un conjunto de vértices S, calcula todos los vértices de G alcanzables desde vértices de S.\n",
        "- Define una función que, dados dos grafos, decida si el primero es subgrafo del segundo."
      ],
      "metadata": {
        "id": "FM8UxrGO92Cm"
      }
    },
    {
      "cell_type": "code",
      "source": [],
      "metadata": {
        "id": "-hgKGt9X-HhB"
      },
      "execution_count": null,
      "outputs": []
    },
    {
      "cell_type": "code",
      "source": [],
      "metadata": {
        "id": "sgMZJJ0G-JC1"
      },
      "execution_count": null,
      "outputs": []
    },
    {
      "cell_type": "markdown",
      "source": [
        "**Ejercicio**: Desarrollar ``borrarUno`` que elimina todas las apariciones de un\n",
        "dato en una lista. A partir de dicha función crear una función ``borrarMuchos``, que elimina de una lista todos los elementos que aparecen en una lista. Se pide implementar ``borrarMuchos`` de tres formas: usando un bucle ``for``, usando ``filter`` y usando recursividad."
      ],
      "metadata": {
        "id": "2VzS88HI-KHN"
      }
    },
    {
      "cell_type": "code",
      "source": [],
      "metadata": {
        "id": "LzzvOvD6-h54"
      },
      "execution_count": null,
      "outputs": []
    },
    {
      "cell_type": "markdown",
      "source": [
        "**Ejercicio**: trabajamos sobre matrices representadas como listas de listas. Construye una función para obtener la lista de pares que corresponden a entradas no nulas de una matriz. Hazlo mediante listas por comprensión, con bucles \"normales\" y con recursividad."
      ],
      "metadata": {
        "id": "g90gqJIa-v6K"
      }
    },
    {
      "cell_type": "code",
      "source": [],
      "metadata": {
        "id": "7Se6SOkr-9g9"
      },
      "execution_count": null,
      "outputs": []
    },
    {
      "cell_type": "markdown",
      "source": [
        "# Entrega\n",
        "\n",
        "Recuerda guardar este notebook en tu repositorio de GitHub."
      ],
      "metadata": {
        "id": "CkPWIxH5_Xfn"
      }
    }
  ],
  "metadata": {
    "celltoolbar": "Raw Cell Format",
    "kernelspec": {
      "display_name": "Python 3 (ipykernel)",
      "language": "python",
      "name": "python3"
    },
    "language_info": {
      "codemirror_mode": {
        "name": "ipython",
        "version": 3
      },
      "file_extension": ".py",
      "mimetype": "text/x-python",
      "name": "python",
      "nbconvert_exporter": "python",
      "pygments_lexer": "ipython3",
      "version": "3.8.10"
    },
    "colab": {
      "provenance": []
    }
  },
  "nbformat": 4,
  "nbformat_minor": 0
}